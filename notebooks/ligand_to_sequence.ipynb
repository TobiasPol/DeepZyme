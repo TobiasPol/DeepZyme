{
 "cells": [
  {
   "cell_type": "code",
   "execution_count": 1,
   "metadata": {},
   "outputs": [
    {
     "name": "stdout",
     "output_type": "stream",
     "text": [
      "\n"
     ]
    }
   ],
   "source": [
    "from rdkit import Chem\n",
    "\n",
    "# Pfad zur .mol2-Datei\n",
    "mol2_file = \"../PUResNet/output/3al5.pdb/pocket0.mol2\"\n",
    "\n",
    "# Molekül aus der .mol2-Datei laden\n",
    "mol = Chem.MolFromMol2File(mol2_file)\n",
    "\n",
    "# Molekül in eine Sequenz umwandeln\n",
    "sequence = Chem.MolToSequence(mol)\n",
    "\n",
    "# Ausgabe der Sequenz\n",
    "print(sequence)"
   ]
  },
  {
   "cell_type": "code",
   "execution_count": null,
   "metadata": {},
   "outputs": [],
   "source": []
  }
 ],
 "metadata": {
  "kernelspec": {
   "display_name": "PUResNet",
   "language": "python",
   "name": "python3"
  },
  "language_info": {
   "codemirror_mode": {
    "name": "ipython",
    "version": 3
   },
   "file_extension": ".py",
   "mimetype": "text/x-python",
   "name": "python",
   "nbconvert_exporter": "python",
   "pygments_lexer": "ipython3",
   "version": "3.6.13"
  }
 },
 "nbformat": 4,
 "nbformat_minor": 2
}
